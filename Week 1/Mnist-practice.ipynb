{
 "cells": [
  {
   "cell_type": "markdown",
   "metadata": {},
   "source": [
    "# Mnist 실습\n",
    "\n",
    "필기체 이미지를 분류하는 간단한 인공지능을 만들어보자. \n",
    "\n",
    "![img](https://t1.daumcdn.net/cfile/tistory/22606B435974B30434)\n",
    "\n",
    "\n",
    "### 숫자 손글씨 인식기 만들기 (Sequential Model을 이용하는 방법)\n",
    "\n",
    "숫자 손글씨 분류기는 손으로 쓴 숫자 이미지를 입력받으면, 그 이미지가 어떤 숫자를 나타내는지 출력해낼 수 있다. \n",
    "\n",
    "\n",
    "> 어떻게 만들어?\n",
    "\n",
    "일반적으로 딥러닝 기술은 **데이터 준비 -> 딥러닝 네트워크 설계 -> 학습 -> 테스트(평가)**의 순서로 만들게 된다."
   ]
  },
  {
   "cell_type": "markdown",
   "metadata": {},
   "source": [
    "## 1. 데이터 준비\n",
    "\n",
    "\n",
    "### Mnist 숫자 손글씨 Dataset 불러들이기\n",
    "\n",
    "텐서플로우(Tensorflow)의 표준 API인 `tf.keras`의 **Sequential API**를 이용하여 숫자 손글씨 인식기를 만들어보자. \n",
    "\n",
    "구글에서 오픈소스로 제공하는 텐서플로우는 가장 널리 사용되고 있는 머신러닝 라이브러리 중 하나다. 딥러닝 구현 실습은 Tensorflow 버전 2.0 (혹은 그 이상)에서 진행될 예정이다. \n"
   ]
  },
  {
   "cell_type": "markdown",
   "metadata": {},
   "source": [
    "먼저 아래 코드를 실행해보자. "
   ]
  },
  {
   "cell_type": "code",
   "execution_count": 2,
   "metadata": {},
   "outputs": [
    {
     "name": "stdout",
     "output_type": "stream",
     "text": [
      "2.2.0\n",
      "60000\n"
     ]
    }
   ],
   "source": [
    "import tensorflow as tf\n",
    "from tensorflow import keras\n",
    "\n",
    "import numpy as np\n",
    "import matplotlib.pyplot as plt\n",
    "\n",
    "print(tf.__version__)\n",
    "\n",
    "#mnist 로드. 케라스에 내장되어있는 데이터셋\n",
    "mnist = keras.datasets.mnist\n",
    "\n",
    "#사전에 다운로드 되어있지 않았다면 다운로드까지 진행\n",
    "(x_train, y_train), (x_test, y_test) = mnist.load_data()\n",
    "\n",
    "print(len(x_train))"
   ]
  },
  {
   "cell_type": "markdown",
   "metadata": {},
   "source": [
    "위의 코드를 보면 숫자 손글씨 데이터인 MNIST 데이터셋을 쉽게 읽어들일 수 있다. \n",
    "또한 학습 데이터는 60,000개가 있는 것을 확인할 수 있다. "
   ]
  },
  {
   "cell_type": "markdown",
   "metadata": {},
   "source": [
    "불러들인 숫자 손글씨 이미지 하나를 출력해보자. MNIST 데이터셋의 X항목은 이미지 데이터를 담는 행렬이고 y항목은 이 이미지에 대한 결과값, 즉 숫자이다."
   ]
  },
  {
   "cell_type": "code",
   "execution_count": 3,
   "metadata": {},
   "outputs": [
    {
     "data": {
      "image/png": "[encoded data removed]",
      "text/plain": [
       "<Figure size 432x288 with 1 Axes>"
      ]
     },
     "metadata": {
      "needs_background": "light"
     },
     "output_type": "display_data"
    }
   ],
   "source": [
    "plt.imshow(x_train[1],cmap=plt.cm.binary)\n",
    "plt.show()"
   ]
  },
  {
   "cell_type": "markdown",
   "metadata": {},
   "source": [
    "숫자 0의 이미지가 나왔다. 이는 x_train\\[1\\]에 담긴 이미지의 의미는 0이라는 것이다.\n",
    "\n",
    "마찬가지로 y항목의 내요도 출력해보자."
   ]
  },
  {
   "cell_type": "code",
   "execution_count": 4,
   "metadata": {},
   "outputs": [
    {
     "name": "stdout",
     "output_type": "stream",
     "text": [
      "0\n"
     ]
    }
   ],
   "source": [
    "print(y_train[1])"
   ]
  },
  {
   "cell_type": "markdown",
   "metadata": {},
   "source": [
    "y항목에는 x항목에 들어있는 이미지에 대응하는 실제 숫자값이 담겨있다."
   ]
  },
  {
   "cell_type": "markdown",
   "metadata": {},
   "source": [
    "### 학습용 데이터와 시험용 데이터\n",
    "\n",
    "```python\n",
    "(x_train, y_train), (x_test, y_test) = mnist.load_data()\n",
    "```\n",
    "\n",
    "`mnist.load()` 함수를 통해 학습용 데이터 `(x_train, y_train)`와 시험용 데이터 `(x_test, y_test)`를 나누어서 받아들이는 것을 볼 수 있다. \n"
   ]
  },
  {
   "cell_type": "code",
   "execution_count": 7,
   "metadata": {},
   "outputs": [
    {
     "name": "stdout",
     "output_type": "stream",
     "text": [
      "(60000, 28, 28)\n",
      "(10000, 28, 28)\n"
     ]
    }
   ],
   "source": [
    "print(x_train.shape)\n",
    "print(x_test.shape)"
   ]
  },
  {
   "cell_type": "markdown",
   "metadata": {},
   "source": [
    "학습 데이터는 60000개, 시험 데이터는 10000개가 저장되어있음을 알 수 있다. 저 시험용 데이터는 머신러닝의 학습이 overfitting 되는 것을 방지하기 위해 필요하다.\n",
    "\n",
    "![img](https://t1.daumcdn.net/cfile/tistory/9951E5445AAE1BE025)\n",
    "\n",
    "위와 같이 전체 데이터가 있으면 training, test, validation set으로 나눈 것을 볼 수 있다. 모델의 정확도를 미리 예측하고, overfitting을 막고, 여러 머신러닝 모델 중 가장 정확성이 좋은 모델을 선택하기위 validation set을 이용한다.\n",
    "\n",
    "자세한 내용은 아래 링크 참고!\n",
    "\n",
    "[Machine Learning에서 validation set을 사용하는 이유](https://3months.tistory.com/118)"
   ]
  },
  {
   "cell_type": "markdown",
   "metadata": {},
   "source": [
    "### 데이터 전처리 하기\n",
    "\n",
    "숫자 솔글씨 이미지의 실제 픽셀 값은 0부터 255 사이의 값을 가진다. "
   ]
  },
  {
   "cell_type": "code",
   "execution_count": 8,
   "metadata": {},
   "outputs": [
    {
     "name": "stdout",
     "output_type": "stream",
     "text": [
      "최소값 :  0 최대값 :  255\n"
     ]
    }
   ],
   "source": [
    "print('최소값 : ', np.min(x_train), '최대값 : ', np.max(x_train))"
   ]
  },
  {
   "cell_type": "markdown",
   "metadata": {},
   "source": [
    "인공지능 모델을 훈련시키고 사용할 때, 일반적으로 입력은 0\\~1 사이의 값으로 정규화 시켜주는 것이 좋다. MINIST 데이터는 각 픽셀 값이 0~255 사이 범위에 있으므로 데이터들을 255.0으로 나누어 준다.\n",
    "\n",
    "최소값이 0, 최대값이 1에 근접하도록 나오는지 확인해보자."
   ]
  },
  {
   "cell_type": "code",
   "execution_count": 10,
   "metadata": {},
   "outputs": [
    {
     "name": "stdout",
     "output_type": "stream",
     "text": [
      "최소값 :  0.0 최대값 :  1.0\n"
     ]
    }
   ],
   "source": [
    "x_train_norm, x_test_norm = x_train/255.0, x_test/255.0\n",
    "\n",
    "print('최소값 : ', np.min(x_train_norm), '최대값 : ', np.max(x_test_norm))"
   ]
  },
  {
   "cell_type": "markdown",
   "metadata": {},
   "source": [
    "## 2. 딥러닝 네트워크 설계하기\n",
    "\n",
    "### Sequential Model을 사용해보자\n",
    "\n",
    "데이터가 모두 준비되었다. 이제 딥러닝 네트워크를 만들어 볼 시간이다.\n",
    "\n",
    "이번에는 텐서플로우 케라스(tf.keras)에서 Sequential API라는 방법을 사용할 것이다. Sequential API는 개발의 자유도는 많이 떨어지지만, 매우 간단하게 딥러닝 모델을 설계할 수 있다. 손쉽게 딥러닝 레이어를 추가할 수 있으며, 케라스에서 모델을 만드는 방법은 Sequential API외에도 Functional API를 이용하는 방법, 밑바닥부터 직접 코딩하는 방법 등이 있다.\n",
    "\n",
    "아래 코드는 tf.keras에서 Sequential API를 이용하여 **LeNet**이라는 딥러닝 네트워크를 설계한 예시이다. 간단한 코드지만 손글씨 숫자 분류기를 구현하는 데에는 충분하다."
   ]
  },
  {
   "cell_type": "code",
   "execution_count": 13,
   "metadata": {},
   "outputs": [
    {
     "name": "stdout",
     "output_type": "stream",
     "text": [
      "Model에 추가된 Layer 개수 :  7\n"
     ]
    }
   ],
   "source": [
    "model = keras.models.Sequential()\n",
    "model.add(keras.layers.Conv2D(16, (3, 3), activation = 'relu', input_shape = (28, 28, 1)))\n",
    "model.add(keras.layers.MaxPool2D(2, 2))\n",
    "model.add(keras.layers.Conv2D(32,(3, 3), activation = 'relu'))\n",
    "model.add(keras.layers.MaxPooling2D((2, 2)))\n",
    "model.add(keras.layers.Flatten())\n",
    "model.add(keras.layers.Dense(32, activation = 'relu'))\n",
    "model.add(keras.layers.Dense(10, activation = 'softmax'))\n",
    "\n",
    "print(\"Model에 추가된 Layer 개수 : \", len(model.layers))"
   ]
  },
  {
   "attachments": {},
   "cell_type": "markdown",
   "metadata": {},
   "source": [
    "![img](https://aiffelstaticprd.blob.core.windows.net/media/images/F-1-5.max-800x600.png)\n",
    "\n",
    "- Conv2D 레이어의 첫 번째 인자는 사용하는 이미지 특징의 수다. 여기서는 16과 32를 사용했다. 가장 먼저 16개의 이미지 특징을, 그 뒤에 32개의 이미지 특징씩을 고려하겠다는 의미다. 복잡한 이미지라면 (예. 사람 얼굴) 이 특징 숫자를 늘려주는 것을 고려할 수 있다.\n",
    "- Dense 레이어의 첫번째 인자는 분류기에 사용되는 뉴런의 숫자다. 이 값이 클수록 보다 복잡한 분류기를 만들 수 있다. 10개의 숫자가 아닌 알파벳을 구분하고 싶다면, 대문자 26개, 소문자 26개로 총 52개의 클래스를 분류해야한다. 그래서 32보다 큰 64, 128 등을 고려해볼 수 있다.\n",
    "- 마지막 Dense 레이어의 뉴런 숫자는 결과적으로 분류해야하는 클래스 수로 지정하면 된다. 숫자 인식기에서는 10, 알파벳 인식기에서는 52가 된다.\n",
    "\n",
    "\n",
    "만든 딥러닝 네트워크 모델을 확인해보려면 `model.summary()` 메소드를 이용하면 된다."
   ]
  },
  {
   "cell_type": "code",
   "execution_count": 14,
   "metadata": {},
   "outputs": [
    {
     "name": "stdout",
     "output_type": "stream",
     "text": [
      "Model: \"sequential_2\"\n",
      "_________________________________________________________________\n",
      "Layer (type)                 Output Shape              Param #   \n",
      "=================================================================\n",
      "conv2d_3 (Conv2D)            (None, 26, 26, 16)        160       \n",
      "_________________________________________________________________\n",
      "max_pooling2d_2 (MaxPooling2 (None, 13, 13, 16)        0         \n",
      "_________________________________________________________________\n",
      "conv2d_4 (Conv2D)            (None, 11, 11, 32)        4640      \n",
      "_________________________________________________________________\n",
      "max_pooling2d_3 (MaxPooling2 (None, 5, 5, 32)          0         \n",
      "_________________________________________________________________\n",
      "flatten (Flatten)            (None, 800)               0         \n",
      "_________________________________________________________________\n",
      "dense (Dense)                (None, 32)                25632     \n",
      "_________________________________________________________________\n",
      "dense_1 (Dense)              (None, 10)                330       \n",
      "=================================================================\n",
      "Total params: 30,762\n",
      "Trainable params: 30,762\n",
      "Non-trainable params: 0\n",
      "_________________________________________________________________\n"
     ]
    }
   ],
   "source": [
    "model.summary()"
   ]
  },
  {
   "cell_type": "markdown",
   "metadata": {},
   "source": [
    "## 3. 딥러닝 네트워크 학습시키기\n",
    "\n",
    "우리가 만든 네트워크의 입력은 `(데이터 갯수, 이미지 크기x, 이미지 크기y, 채널수)`와 같은 형태를 가진다. 이전 스텝에서 첫번째 레이어에 `input_shape=(28, 28, 1)`로 지정했었다.\n",
    "\n",
    "그런데 `print(x_train.shape)`를 해보면, `(60000, 28, 28)`로 채널수에 대한 정보가 없다. 따라서 `(60000, 28, 28, 1)`로 만들어주어야 한다. (여기서 채널수 1은 흑백 이미지를 의미한다. 컬러 이미지라면 R, G, B 세가지 값이기 때문에 3이다.)"
   ]
  },
  {
   "cell_type": "code",
   "execution_count": 15,
   "metadata": {},
   "outputs": [
    {
     "name": "stdout",
     "output_type": "stream",
     "text": [
      "Before Reshape - x_train_norm shape : (60000, 28, 28)\n",
      "Before Reshape - x_test_norm shape : (10000, 28, 28)\n",
      "After Reshape - x_train_norm shape : (60000, 28, 28)\n",
      "After Reshape - x_test_norm shape : (10000, 28, 28)\n"
     ]
    }
   ],
   "source": [
    "print(\"Before Reshape - x_train_norm shape : {}\".format(x_train_norm.shape))\n",
    "print(\"Before Reshape - x_test_norm shape : {}\".format(x_test_norm.shape))\n",
    "\n",
    "x_train_reshaped = x_train_norm.reshape(-1, 28, 28, 1) # 데이터 갯수에 -1을 쓰면 reshape시 자동으로 계산된다.\n",
    "x_test_reshaped = x_test_norm.reshape(-1, 28, 28, 1)\n",
    "\n",
    "print(\"After Reshape - x_train_norm shape : {}\".format(x_train_norm.shape))\n",
    "print(\"After Reshape - x_test_norm shape : {}\".format(x_test_norm.shape))"
   ]
  },
  {
   "cell_type": "markdown",
   "metadata": {},
   "source": [
    "이제 `x_train` 학습데이터로 딥러닝 네트워크를 학습시켜보자. 여기서 epochs = 10은 전체 60,000개의 데이터를 10번 반복해서 학습시키라는 의미다. 물론 model의 입력 정의에 형태를 맞춘 `x_train_reshaped`가 사용되어야 한다."
   ]
  },
  {
   "cell_type": "code",
   "execution_count": 16,
   "metadata": {},
   "outputs": [
    {
     "name": "stdout",
     "output_type": "stream",
     "text": [
      "Epoch 1/10\n",
      "1875/1875 [==============================] - 2s 1ms/step - loss: 0.1953 - accuracy: 0.9420\n",
      "Epoch 2/10\n",
      "1875/1875 [==============================] - 2s 1ms/step - loss: 0.0638 - accuracy: 0.9801\n",
      "Epoch 3/10\n",
      "1875/1875 [==============================] - 2s 1ms/step - loss: 0.0454 - accuracy: 0.9860\n",
      "Epoch 4/10\n",
      "1875/1875 [==============================] - 2s 1ms/step - loss: 0.0350 - accuracy: 0.9892\n",
      "Epoch 5/10\n",
      "1875/1875 [==============================] - 2s 1ms/step - loss: 0.0291 - accuracy: 0.9909\n",
      "Epoch 6/10\n",
      "1875/1875 [==============================] - 2s 1ms/step - loss: 0.0235 - accuracy: 0.9925\n",
      "Epoch 7/10\n",
      "1875/1875 [==============================] - 2s 1ms/step - loss: 0.0188 - accuracy: 0.9942\n",
      "Epoch 8/10\n",
      "1875/1875 [==============================] - 2s 1ms/step - loss: 0.0158 - accuracy: 0.9948\n",
      "Epoch 9/10\n",
      "1875/1875 [==============================] - 2s 1ms/step - loss: 0.0129 - accuracy: 0.9955\n",
      "Epoch 10/10\n",
      "1875/1875 [==============================] - 2s 1ms/step - loss: 0.0115 - accuracy: 0.9962\n"
     ]
    },
    {
     "data": {
      "text/plain": [
       "<tensorflow.python.keras.callbacks.History at 0x7f73503f9a50>"
      ]
     },
     "execution_count": 16,
     "metadata": {},
     "output_type": "execute_result"
    }
   ],
   "source": [
    "model.compile(optimizer = 'adam',\n",
    "             loss = 'sparse_categorical_crossentropy',\n",
    "             metrics = ['accuracy'])\n",
    "\n",
    "model.fit(x_train_reshaped, y_train, epochs = 10)"
   ]
  },
  {
   "cell_type": "markdown",
   "metadata": {},
   "source": [
    "## 4. 얼마나 잘 만들었는지 확인하기\n",
    "\n",
    "### 테스트 데이터로 성능을 확인해보기\n",
    "\n",
    "위에 테스트는 validation set, 즉 training set의 일부를 사용한 것이다. 과연 이 모델이 test data에서도 잘 작용할까?\n",
    "\n",
    "시험용 데이터 `x_text`를 가지고 확인해보자."
   ]
  },
  {
   "cell_type": "code",
   "execution_count": 17,
   "metadata": {},
   "outputs": [
    {
     "name": "stdout",
     "output_type": "stream",
     "text": [
      "313/313 - 2s - loss: 0.0364 - accuracy: 0.9901\n",
      "test_loss : 0.036440543830394745\n",
      "test_accuracy : 0.9901000261306763\n"
     ]
    }
   ],
   "source": [
    "test_loss, test_accuracy = model.evaluate(x_test_reshaped, y_test, verbose=2)\n",
    "\n",
    "print(\"test_loss : {}\".format(test_loss))\n",
    "print(\"test_accuracy : {}\".format(test_accuracy))"
   ]
  },
  {
   "cell_type": "markdown",
   "metadata": {},
   "source": [
    "결과가 나쁘지 않긴 하지만, 트레이닝셋보다 정확도가 떨어졌다.\n",
    "\n",
    "### 어떤 데이터를 잘못 추론했을까? 확인해보자.\n",
    "\n",
    "`model.evaluate()` 대신 `model.predict()`를 사용하면 model이 입력값을 보고 실제로 추론한 확률분포를 출력할 수 있다. 우리가 만든 model이란 사실 10개의 숫자 중 어느 것일지에 대한 확률값을 출력하는 함수다.\n",
    "\n",
    "이 함수의 출력값, 즉 확률값이 가장 높은 숫자가 바로 model이 추론한 숫자가 된다."
   ]
  },
  {
   "cell_type": "code",
   "execution_count": 19,
   "metadata": {},
   "outputs": [
    {
     "name": "stdout",
     "output_type": "stream",
     "text": [
      "model.predict() 결과 :  [9.4768566e-08 3.2840468e-08 8.8844399e-06 1.0615840e-04 3.9865014e-09\n",
      " 1.3751206e-08 1.4640910e-11 9.9988484e-01 1.8163474e-08 3.6948819e-08]\n",
      "model이 추론한 가장 가능성 높은 결과 :  7\n",
      "실제 데이터의 라벨 :  7\n"
     ]
    }
   ],
   "source": [
    "predicted_result = model.predict(x_test_reshaped) # 모델이 추론한 확률값.\n",
    "predicted_labels = np.argmax(predicted_result, axis=1)\n",
    "\n",
    "idx = 0 \n",
    "print(\"model.predict() 결과 : \", predicted_result[idx])\n",
    "print(\"model이 추론한 가장 가능성 높은 결과 : \", predicted_labels[idx])\n",
    "print(\"실제 데이터의 라벨 : \", y_test[idx])"
   ]
  },
  {
   "cell_type": "markdown",
   "metadata": {},
   "source": [
    "`model.predict()`의 결과가 `[9.4768566e-08 3.2840468e-08 8.8844399e-06 1.0615840e-04 3.9865014e-09\n",
    " 1.3751206e-08 1.4640910e-11 9.9988484e-01 1.8163474e-08 3.6948819e-08]`의 벡터 형태로 나왔다.\n",
    " \n",
    "이 벡터는 model이 추론한 결과가 각각 0, 1, 2, ..., 7, 8, 9일 확률을 의미한다.\n",
    "\n",
    "이 경우라면 model이 추론한 결과가 7일 확률이 1.00에 근접하고 있다. 즉, 이 모델은 입력한 이미지가 7이라는 것을 아주 확신하고 있다는 뜻이다. \n",
    "\n",
    "\n",
    "한번 실제 결과를 확인해보자."
   ]
  },
  {
   "cell_type": "code",
   "execution_count": 20,
   "metadata": {},
   "outputs": [
    {
     "data": {
      "image/png": "[encoded data removed]",
      "text/plain": [
       "<Figure size 432x288 with 1 Axes>"
      ]
     },
     "metadata": {
      "needs_background": "light"
     },
     "output_type": "display_data"
    }
   ],
   "source": [
    "plt.imshow(x_test[idx], cmap = plt.cm.binary)\n",
    "plt.show()"
   ]
  },
  {
   "cell_type": "markdown",
   "metadata": {},
   "source": [
    "그렇다면 model이 추론해낸 숫자와 실제 라벨의 값이 다른 경우는 어떤 경우인지 직접 확인해보자."
   ]
  },
  {
   "cell_type": "code",
   "execution_count": 22,
   "metadata": {},
   "outputs": [
    {
     "name": "stdout",
     "output_type": "stream",
     "text": [
      "예측 확률 분포 : [8.83760687e-04 1.11265235e-05 1.65880099e-01 4.51249944e-04\n",
      " 6.36902332e-05 2.90642941e-08 1.03537057e-09 8.26271832e-01\n",
      " 3.27667152e-03 3.16152186e-03]\n",
      "라벨 : 2, 예측 결과 : 7\n"
     ]
    },
    {
     "data": {
      "image/png": "[encoded data removed]",
      "text/plain": [
       "<Figure size 432x288 with 1 Axes>"
      ]
     },
     "metadata": {
      "needs_background": "light"
     },
     "output_type": "display_data"
    },
    {
     "name": "stdout",
     "output_type": "stream",
     "text": [
      "예측 확률 분포 : [7.03128219e-01 2.93763325e-09 3.14743374e-07 1.13530834e-11\n",
      " 2.83216536e-01 2.72238954e-10 4.87409020e-03 1.20456214e-11\n",
      " 8.77845939e-03 2.34742242e-06]\n",
      "라벨 : 6, 예측 결과 : 0\n"
     ]
    },
    {
     "data": {
      "image/png": "[encoded data removed]",
      "text/plain": [
       "<Figure size 432x288 with 1 Axes>"
      ]
     },
     "metadata": {
      "needs_background": "light"
     },
     "output_type": "display_data"
    },
    {
     "name": "stdout",
     "output_type": "stream",
     "text": [
      "예측 확률 분포 : [4.2650225e-10 1.2862118e-07 1.8747243e-04 6.8296760e-01 1.4418050e-06\n",
      " 7.6177479e-08 2.1168676e-14 3.1569037e-01 2.3590787e-06 1.1504450e-03]\n",
      "라벨 : 7, 예측 결과 : 3\n"
     ]
    },
    {
     "data": {
      "image/png": "[encoded data removed]",
      "text/plain": [
       "<Figure size 432x288 with 1 Axes>"
      ]
     },
     "metadata": {
      "needs_background": "light"
     },
     "output_type": "display_data"
    },
    {
     "name": "stdout",
     "output_type": "stream",
     "text": [
      "예측 확률 분포 : [1.7958440e-05 9.4247069e-03 6.4025629e-01 1.8759163e-01 6.5132529e-02\n",
      " 4.7332922e-04 2.7320969e-08 1.3495676e-02 8.1807248e-02 1.8006187e-03]\n",
      "라벨 : 8, 예측 결과 : 2\n"
     ]
    },
    {
     "data": {
      "image/png": "[encoded data removed]",
      "text/plain": [
       "<Figure size 432x288 with 1 Axes>"
      ]
     },
     "metadata": {
      "needs_background": "light"
     },
     "output_type": "display_data"
    },
    {
     "name": "stdout",
     "output_type": "stream",
     "text": [
      "예측 확률 분포 : [4.6711805e-12 6.5516508e-07 8.8846041e-03 9.9106795e-01 7.8731830e-09\n",
      " 2.0272342e-08 2.5185108e-15 1.9330055e-05 2.7349688e-05 1.9582142e-08]\n",
      "라벨 : 2, 예측 결과 : 3\n"
     ]
    },
    {
     "data": {
      "image/png": "[encoded data removed]",
      "text/plain": [
       "<Figure size 432x288 with 1 Axes>"
      ]
     },
     "metadata": {
      "needs_background": "light"
     },
     "output_type": "display_data"
    }
   ],
   "source": [
    "import random\n",
    "\n",
    "wrong_predict_list = []\n",
    "\n",
    "for i, _ in enumerate(predicted_labels):\n",
    "    # i번째 test_labels과 y_test이 다른 경우만 모아보자.\n",
    "    if predicted_labels[i] != y_test[i]:\n",
    "        wrong_predict_list.append(i)\n",
    "        \n",
    "# wrong_predict_list에서 랜덤하게 5개만 뽑아보자.\n",
    "samples = random.choices(population = wrong_predict_list, k=5)\n",
    "\n",
    "for n in samples:\n",
    "    print(\"예측 확률 분포 : \" + str(predicted_result[n]))\n",
    "    print(\"라벨 : \" + str(y_test[n]) + \", 예측 결과 : \" + str(predicted_labels[n]))\n",
    "    plt.imshow(x_test[n], cmap = plt.cm.binary)\n",
    "    plt.show()"
   ]
  },
  {
   "cell_type": "markdown",
   "metadata": {},
   "source": [
    "## 더 좋은 네트워크 만들어보기\n",
    "\n",
    "더 높은 정확도를 이끌어내기 위해서 무엇을 할 수 있을까?\n",
    "\n",
    "네트워크의 구조 자체는 바꾸지 않으면서도 해볼 수 있는 것들이 있다. 하이퍼파라미터들을 바꾸어보는 것인데, `Conv2D` 레이어에서 입력 이미지의 특징 수를 늘리거나 줄여보거나, `Dense` 레이어에서 뉴런 수를 바꾸어보거나, 학습 반복 횟수인 `epoch` 값을 변경해볼 수 있다."
   ]
  },
  {
   "cell_type": "code",
   "execution_count": null,
   "metadata": {},
   "outputs": [],
   "source": [
    "# 바꿔볼 수 있는 하이퍼파라미터들\n",
    "n_channel_1 = 16\n",
    "n_channel_2 = 32\n",
    "n_dense = 48\n",
    "n_train_epoch = 10\n",
    "\n",
    "model = keras.models.Sequential()\n",
    "model.add(keras.layers.Conv2D(n_channel_1, (3, 3), activation = 'relu', input_shape=(28, 28, 1)))\n",
    "model.add(keras.layers.MaxPool2D(2, 2))\n",
    "model.add(keras.layers.Con2D(n_channel_2, (3, 3), activation = 'relu'))\n",
    "model.add(keras.layers.MaxPool2D(2, 2))\n",
    "model.add(keras.layers.Flatten())\n",
    "model.add(keras.layers.Dense(n_dense, activation = 'relu'))\n",
    "model.add(keras.layers.Dense(10, activation = 'softmax'))\n",
    "\n",
    "model.summary()\n",
    "model.compile(optimizer = 'adam',\n",
    "             loss = 'sparse_categorical_crossentropy',\n",
    "             metrics = ['accuracy'])\n",
    "\n",
    "# 모델 훈련\n",
    "model.fit(x_train_reshaped, y_train, epochs = n_train_epoch)\n",
    "\n",
    "# 모델 시험\n",
    "test_loss, test_accuracy = model.evaluate(x_test_reshaped, y_test, verbose=2)\n",
    "print(\"test_loss : {}\".format(test_loss))\n",
    "p"
   ]
  }
 ],
 "metadata": {
  "kernelspec": {
   "display_name": "aiffel",
   "language": "python",
   "name": "aiffel"
  },
  "language_info": {
   "codemirror_mode": {
    "name": "ipython",
    "version": 3
   },
   "file_extension": ".py",
   "mimetype": "text/x-python",
   "name": "python",
   "nbconvert_exporter": "python",
   "pygments_lexer": "ipython3",
   "version": "3.7.7"
  }
 },
 "nbformat": 4,
 "nbformat_minor": 4
}
