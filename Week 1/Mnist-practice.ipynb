{
 "cells": [
  {
   "cell_type": "markdown",
   "metadata": {},
   "source": [
    "# Mnist 실습\n",
    "\n",
    "필기체 이미지를 분류하는 간단한 인공지능을 만들어보자. \n",
    "\n",
    "![img](https://t1.daumcdn.net/cfile/tistory/22606B435974B30434)\n",
    "\n",
    "\n",
    "### 숫자 손글씨 인식기 만들기 (Sequential Model을 이용하는 방법)\n",
    "\n",
    "숫자 손글씨 분류기는 손으로 쓴 숫자 이미지를 입력받으면, 그 이미지가 어떤 숫자를 나타내는지 출력해낼 수 있다. \n",
    "\n",
    "\n",
    "> 어떻게 만들어?\n",
    "\n",
    "일반적으로 딥러닝 기술은 **데이터 준비 -> 딥러닝 네트워크 설계 -> 학습 -> 테스트(평가)**의 순서로 만들게 된다."
   ]
  },
  {
   "cell_type": "markdown",
   "metadata": {},
   "source": [
    "## 1. 데이터 준비\n",
    "\n",
    "\n",
    "### Mnist 숫자 손글씨 Dataset 불러들이기\n",
    "\n",
    "텐서플로우(Tensorflow)의 표준 API인 `tf.keras`의 **Sequential API**를 이용하여 숫자 손글씨 인식기를 만들어보자. \n",
    "\n",
    "구글에서 오픈소스로 제공하는 텐서플로우는 가장 널리 사용되고 있는 머신러닝 라이브러리 중 하나다. 딥러닝 구현 실습은 Tensorflow 버전 2.0 (혹은 그 이상)에서 진행될 예정이다. \n"
   ]
  },
  {
   "cell_type": "markdown",
   "metadata": {},
   "source": [
    "먼저 아래 코드를 실행해보자. "
   ]
  },
  {
   "cell_type": "code",
   "execution_count": 2,
   "metadata": {},
   "outputs": [
    {
     "name": "stdout",
     "output_type": "stream",
     "text": [
      "2.2.0\n",
      "60000\n"
     ]
    }
   ],
   "source": [
    "import tensorflow as tf\n",
    "from tensorflow import keras\n",
    "\n",
    "import numpy as np\n",
    "import matplotlib.pyplot as plt\n",
    "\n",
    "print(tf.__version__)\n",
    "\n",
    "#mnist 로드. 케라스에 내장되어있는 데이터셋\n",
    "mnist = keras.datasets.mnist\n",
    "\n",
    "#사전에 다운로드 되어있지 않았다면 다운로드까지 진행\n",
    "(x_train, y_train), (x_test, y_test) = mnist.load_data()\n",
    "\n",
    "print(len(x_train))"
   ]
  },
  {
   "cell_type": "markdown",
   "metadata": {},
   "source": [
    "위의 코드를 보면 숫자 손글씨 데이터인 MNIST 데이터셋을 쉽게 읽어들일 수 있다. \n",
    "또한 학습 데이터는 60,000개가 있는 것을 확인할 수 있다. "
   ]
  },
  {
   "cell_type": "markdown",
   "metadata": {},
   "source": [
    "불러들인 숫자 손글씨 이미지 하나를 출력해보자. MNIST 데이터셋의 X항목은 이미지 데이터를 담는 행렬이고 y항목은 이 이미지에 대한 결과값, 즉 숫자이다."
   ]
  },
  {
   "cell_type": "code",
   "execution_count": 3,
   "metadata": {},
   "outputs": [
    {
     "data": {
      "image/png": "[encoded data removed]",
      "text/plain": [
       "<Figure size 432x288 with 1 Axes>"
      ]
     },
     "metadata": {
      "needs_background": "light"
     },
     "output_type": "display_data"
    }
   ],
   "source": [
    "plt.imshow(x_train[1],cmap=plt.cm.binary)\n",
    "plt.show()"
   ]
  },
  {
   "cell_type": "markdown",
   "metadata": {},
   "source": [
    "숫자 0의 이미지가 나왔다. 이는 x_train\\[1\\]에 담긴 이미지의 의미는 0이라는 것이다.\n",
    "\n",
    "마찬가지로 y항목의 내요도 출력해보자."
   ]
  },
  {
   "cell_type": "code",
   "execution_count": 4,
   "metadata": {},
   "outputs": [
    {
     "name": "stdout",
     "output_type": "stream",
     "text": [
      "0\n"
     ]
    }
   ],
   "source": [
    "print(y_train[1])"
   ]
  },
  {
   "cell_type": "markdown",
   "metadata": {},
   "source": [
    "y항목에는 x항목에 들어있는 이미지에 대응하는 실제 숫자값이 담겨있다."
   ]
  },
  {
   "cell_type": "markdown",
   "metadata": {},
   "source": [
    "### 학습용 데이터와 시험용 데이터\n",
    "\n",
    "```python\n",
    "(x_train, y_train), (x_test, y_test) = mnist.load_data()\n",
    "```\n",
    "\n",
    "`mnist.load()` 함수를 통해 학습용 데이터 `(x_train, y_train)`와 시험용 데이터 `(x_test, y_test)`를 나누어서 받아들이는 것을 볼 수 있다. \n"
   ]
  },
  {
   "cell_type": "code",
   "execution_count": 7,
   "metadata": {},
   "outputs": [
    {
     "name": "stdout",
     "output_type": "stream",
     "text": [
      "(60000, 28, 28)\n",
      "(10000, 28, 28)\n"
     ]
    }
   ],
   "source": [
    "print(x_train.shape)\n",
    "print(x_test.shape)"
   ]
  },
  {
   "cell_type": "markdown",
   "metadata": {},
   "source": [
    "학습 데이터는 60000개, 시험 데이터는 10000개가 저장되어있음을 알 수 있다. 저 시험용 데이터는 머신러닝의 학습이 overfitting 되는 것을 방지하기 위해 필요하다.\n",
    "\n",
    "![img](https://t1.daumcdn.net/cfile/tistory/9951E5445AAE1BE025)\n",
    "\n",
    "위와 같이 전체 데이터가 있으면 training, test, validation set으로 나눈 것을 볼 수 있다. 모델의 정확도를 미리 예측하고, overfitting을 막고, 여러 머신러닝 모델 중 가장 정확성이 좋은 모델을 선택하기위 validation set을 이용한다.\n",
    "\n",
    "자세한 내용은 아래 링크 참고!\n",
    "\n",
    "[Machine Learning에서 validation set을 사용하는 이유](https://3months.tistory.com/118)"
   ]
  },
  {
   "cell_type": "markdown",
   "metadata": {},
   "source": [
    "### 데이터 전처리 하기\n",
    "\n",
    "숫자 솔글씨 이미지의 실제 픽셀 값은 0부터 255 사이의 값을 가진다. "
   ]
  },
  {
   "cell_type": "code",
   "execution_count": 8,
   "metadata": {},
   "outputs": [
    {
     "name": "stdout",
     "output_type": "stream",
     "text": [
      "최소값 :  0 최대값 :  255\n"
     ]
    }
   ],
   "source": [
    "print('최소값 : ', np.min(x_train), '최대값 : ', np.max(x_train))"
   ]
  },
  {
   "cell_type": "markdown",
   "metadata": {},
   "source": [
    "인공지능 모델을 훈련시키고 사용할 때, 일반적으로 입력은 0\\~1 사이의 값으로 정규화 시켜주는 것이 좋다. MINIST 데이터는 각 픽셀 값이 0~255 사이 범위에 있으므로 데이터들을 255.0으로 나누어 준다.\n",
    "\n",
    "최소값이 0, 최대값이 1에 근접하도록 나오는지 확인해보자."
   ]
  },
  {
   "cell_type": "code",
   "execution_count": 10,
   "metadata": {},
   "outputs": [
    {
     "name": "stdout",
     "output_type": "stream",
     "text": [
      "최소값 :  0.0 최대값 :  1.0\n"
     ]
    }
   ],
   "source": [
    "x_train_norm, x_test_norm = x_train/255.0, x_test/255.0\n",
    "\n",
    "print('최소값 : ', np.min(x_train_norm), '최대값 : ', np.max(x_test_norm))"
   ]
  },
  {
   "cell_type": "markdown",
   "metadata": {},
   "source": [
    "## 2. 딥러닝 네트워크 설계하기\n",
    "\n",
    "### Sequential Model을 사용해보자\n",
    "\n",
    "데이터가 모두 준비되었다. 이제 딥러닝 네트워크를 만들어 볼 시간이다.\n",
    "\n",
    "이번에는 텐서플로우 케라스(tf.keras)에서 Sequential API라는 방법을 사용할 것이다. Sequential API는 개발의 자유도는 많이 떨어지지만, 매우 간단하게 딥러닝 모델을 설계할 수 있다. 손쉽게 딥러닝 레이어를 추가할 수 있으며, 케라스에서 모델을 만드는 방법은 Sequential API외에도 Functional API를 이용하는 방법, 밑바닥부터 직접 코딩하는 방법 등이 있다.\n",
    "\n",
    "아래 코드는 tf.keras에서 Sequential API를 이용하여 **LeNet**이라는 딥러닝 네트워크를 설계한 예시이다. 간단한 코드지만 손글씨 숫자 분류기를 구현하는 데에는 충분하다."
   ]
  },
  {
   "cell_type": "code",
   "execution_count": 13,
   "metadata": {},
   "outputs": [
    {
     "name": "stdout",
     "output_type": "stream",
     "text": [
      "Model에 추가된 Layer 개수 :  7\n"
     ]
    }
   ],
   "source": [
    "model = keras.models.Sequential()\n",
    "model.add(keras.layers.Conv2D(16, (3, 3), activation = 'relu', input_shape = (28, 28, 1)))\n",
    "model.add(keras.layers.MaxPool2D(2, 2))\n",
    "model.add(keras.layers.Conv2D(32,(3, 3), activation = 'relu'))\n",
    "model.add(keras.layers.MaxPooling2D((2, 2)))\n",
    "model.add(keras.layers.Flatten())\n",
    "model.add(keras.layers.Dense(32, activation = 'relu'))\n",
    "model.add(keras.layers.Dense(10, activation = 'softmax'))\n",
    "\n",
    "print(\"Model에 추가된 Layer 개수 : \", len(model.layers))"
   ]
  },
  {
   "cell_type": "code",
   "execution_count": null,
   "metadata": {},
   "outputs": [],
   "source": []
  }
 ],
 "metadata": {
  "kernelspec": {
   "display_name": "aiffel",
   "language": "python",
   "name": "aiffel"
  },
  "language_info": {
   "codemirror_mode": {
    "name": "ipython",
    "version": 3
   },
   "file_extension": ".py",
   "mimetype": "text/x-python",
   "name": "python",
   "nbconvert_exporter": "python",
   "pygments_lexer": "ipython3",
   "version": "3.7.7"
  }
 },
 "nbformat": 4,
 "nbformat_minor": 4
}
