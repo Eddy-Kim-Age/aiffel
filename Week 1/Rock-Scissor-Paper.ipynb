{
 "cells": [
  {
   "cell_type": "markdown",
   "metadata": {},
   "source": [
    "# 프로젝트 : 가위바위보 분류기 만들기\n",
    "\n",
    "가위바위보 분류기를 만들어보자!\n",
    "\n",
    "## 1. 데이터 준비\n",
    "\n",
    "### 데이터 만들기\n",
    "\n",
    "가위, 바위, 보 이미지 각각 100장씩 만들어 학습시킨 모델을 만들자. \n",
    "\n",
    "![img](https://img1.daumcdn.net/thumb/R1280x0/?scode=mtistory2&fname=https%3A%2F%2Fblog.kakaocdn.net%2Fdn%2FclioHn%2FbtqANDPo9uw%2FbS1Gx3PR4NMb1DoKALyDI1%2Fimg.png)\n",
    "\n",
    "300장의 이미지를 쉽게 만들어주는 **구글의 Teachable Machine**을 사용해보자. 여기서는 웹캠이 있는 컴퓨터 환경이 필요하다. 아래 링크를 클릭!\n",
    "\n",
    "<https://teachablemachine.withgoogle.com>\n",
    "\n",
    "만드는 순서는 아래와 같다.\n",
    "\n",
    "1. Teachable machine 사이트 이동\n",
    "2. Get Started 버튼 클릭\n",
    "3. Image Project 선택\n",
    "4. Web Cam을 구동해 클래스별 이미지 데이터를 직접 촬영\n",
    "    - 먼저 가위만 100장 찍는다. \n",
    "    - 여러 각도, 여러 크기, 여러 장소에서 촬영한다.\n",
    "    - 100장을 촬영했으면 우측 상단 메뉴 아이콘 -> Download Samples 클릭\n",
    "    - 가위 이미지 100장을 모두 저장했다면 바위 및 보도 같은 과정을 반복한다.\n",
    "    \n",
    "다운로드 받은 이미지는 **224x224**의 크기를 갖는다. 우리는 Mnist와 동일한 28x28 사이즈로 변경해 사용할 것이다.    \n",
    "\n",
    "    \n",
    "### 디렉토리 만들기\n",
    "\n",
    "해당 작업할 `ipynb`파일이 있는 위치에 `/data` 폴더를 생성한다. 이 디렉토리의 하위 디렉토리로 `/data/train`, `/data/test`를 생성해 주자.\n",
    "\n",
    "```bash\n",
    "$ mkdir data\n",
    "$ cd data\n",
    "$ mkdir train\n",
    "$ mkdir test\n",
    "```\n",
    "\n",
    "### 데이터 불러오기 + Resize 하기\n",
    "\n",
    "Mnist와 마찬가지로 이 가위바위보의 이미지도 28x28이 되도록 만들어주자. \n",
    "\n",
    "먼저 PIL 라이브러리가 없는 경우 아래 명령어를 통해 설치하자.\n"
   ]
  },
  {
   "cell_type": "code",
   "execution_count": 73,
   "metadata": {},
   "outputs": [
    {
     "name": "stdout",
     "output_type": "stream",
     "text": [
      "Requirement already satisfied: pillow in /home/aiffel0039/anaconda3/lib/python3.7/site-packages (7.2.0)\n",
      "2020-07-28-Fundamental1.md  Mnist-practice.ipynb\n",
      "data\t\t\t    Rock-Scissor-Paper.ipynb\n"
     ]
    }
   ],
   "source": [
    "#PIL 라이브러리가 설치되어있지 않다면 설치\n",
    "!pip install pillow\n",
    "!ls"
   ]
  },
  {
   "cell_type": "markdown",
   "metadata": {},
   "source": [
    "설치를 완료했으면 아래와 같이 Import를 진행해주자."
   ]
  },
  {
   "cell_type": "code",
   "execution_count": 89,
   "metadata": {},
   "outputs": [],
   "source": [
    "from PIL import Image\n",
    "import os, glob\n",
    "import numpy as np"
   ]
  },
  {
   "cell_type": "markdown",
   "metadata": {},
   "source": [
    "이제 이미지를 불러와서 resize를 진행하자. \n",
    "\n",
    "먼저 가위 이미지부터 시작한다."
   ]
  },
  {
   "cell_type": "code",
   "execution_count": 95,
   "metadata": {},
   "outputs": [],
   "source": [
    "image_dir_path = os.path.dirname(os.path.abspath('__file__'))\n",
    "image_dir_path += r'/data/'\n",
    "\n",
    "#가위 이미지 불러오기\n",
    "scissors_path = image_dir_path + r'/train/scissors'\n",
    "\n",
    "images = glob.glob(scissors_path + '/*.jpg')\n",
    "\n",
    "#파일마다 모두 112x112 사이즈로 바꾸어 저장\n",
    "target_size = (112, 112)\n",
    "for img in images:\n",
    "    old_img = Image.open(img)\n",
    "    new_img = old_img.resize(target_size, Image.ANTIALIAS)\n",
    "    new_img.save(img, \"JPEG\")"
   ]
  },
  {
   "cell_type": "markdown",
   "metadata": {},
   "source": [
    "마찬가지로 바위와 보의 이미지도 28x28로 만들어보자."
   ]
  },
  {
   "cell_type": "code",
   "execution_count": 96,
   "metadata": {},
   "outputs": [],
   "source": [
    "rock_path = image_dir_path + r'/train/rock'\n",
    "rock_images = glob.glob(rock_path + '/*.jpg')\n",
    "#파일마다 모두 28x28 사이즈로 바꾸어 저장\n",
    "for img in rock_images:\n",
    "    old_img = Image.open(img)\n",
    "    new_img = old_img.resize(target_size, Image.ANTIALIAS)\n",
    "    new_img.save(img, 'JPEG')\n",
    "    \n",
    "paper_path = image_dir_path + r'/train/paper'\n",
    "paper_images = glob.glob(paper_path + '/*.jpg')\n",
    "for img in paper_images:\n",
    "    old_img = Image.open(img)\n",
    "    new_img = old_img.resize(target_size, Image.ANTIALIAS)\n",
    "    new_img.save(img, 'JPEG')"
   ]
  },
  {
   "cell_type": "markdown",
   "metadata": {},
   "source": [
    "숫자 손글씨 인식기는 `mnist.load_data()`라는 함수로 데이터를 읽었다. 가위, 바위, 보 데이터를 읽을 수 있는 `load_data()` 함수를 만들어 이 코드가 가위인지, 바위인지, 보인지 알 수 있게 해주자.\n",
    "\n",
    "`load_data()` 함수는 입력으로 이미지가 있는 폴더 위치를 받는다. 여기서는 `data` 폴더의 위치를 적어주면 된다. 또한 가위바위보의 경우에는 3개의 클래스, 즉, **가위 : 0, 바위 : 1, 보 : 2**로 라벨링이 된다."
   ]
  },
  {
   "cell_type": "code",
   "execution_count": 97,
   "metadata": {},
   "outputs": [],
   "source": [
    "# 가위 : 0, 바위 : 1, 보 :2\n",
    "def load_data(img_path):\n",
    "    number_of_data = 300\n",
    "    img_size = 112\n",
    "    color = 3\n",
    "    \n",
    "    # 이미지 데이터와 라벨 데이터를 담을 공간\n",
    "    imgs = np.zeros(number_of_data * img_size *img_size * color, dtype = np.int32).reshape(number_of_data, img_size, img_size, color)\n",
    "    labels = np.zeros(number_of_data, dtype = np.int32)\n",
    "    \n",
    "    idx = 0\n",
    "    for file in glob.iglob(img_path + '/scissors/*.jpg'):\n",
    "        img = np.array(Image.open(file), dtype = np.int32)\n",
    "        imgs[idx, :, :, :]= img\n",
    "        labels[idx] = 0\n",
    "        idx = idx+1\n",
    "    \n",
    "    for file in glob.iglob(img_path + '/rock/*.jpg'):\n",
    "        img = np.array(Image.open(file), dtype = np.int32)\n",
    "        imgs[idx, :, :, :] = img\n",
    "        labels[idx] = 1\n",
    "        idx = idx+1\n",
    "    \n",
    "    for file in glob.iglob(img_path + '/paper/*.jpg'):\n",
    "        img = np.array(Image.open(file), dtype = np.int32)\n",
    "        imgs[idx, :, :, :] = img\n",
    "        labels[idx] = 2\n",
    "        idx = idx+1\n",
    "    \n",
    "    print(\"학습 데이터 x_train의 개수는 \", idx, \"입니다.\")\n",
    "    return imgs, labels"
   ]
  },
  {
   "cell_type": "code",
   "execution_count": 111,
   "metadata": {},
   "outputs": [
    {
     "name": "stdout",
     "output_type": "stream",
     "text": [
      "학습 데이터 x_train의 개수는  300 입니다.\n",
      "x_train shape : (300, 112, 112, 3)\n",
      "y_train shape : (300,)\n"
     ]
    }
   ],
   "source": [
    "image_path = os.path.dirname(os.path.abspath('__file__'))\n",
    "image_path += r'/data/train'\n",
    "\n",
    "(x_train, y_train) = load_data(image_path)\n",
    "x_train_norm = x_train/255.0\n",
    "\n",
    "print(\"x_train shape : {}\".format(x_train.shape))\n",
    "print(\"y_train shape : {}\".format(y_train.shape))"
   ]
  },
  {
   "cell_type": "code",
   "execution_count": 112,
   "metadata": {},
   "outputs": [
    {
     "name": "stdout",
     "output_type": "stream",
     "text": [
      "라벨 :  0\n"
     ]
    },
    {
     "data": {
      "image/png": "[encoded data removed]",
      "text/plain": [
       "<Figure size 432x288 with 1 Axes>"
      ]
     },
     "metadata": {
      "needs_background": "light"
     },
     "output_type": "display_data"
    }
   ],
   "source": [
    "import matplotlib.pyplot as plt\n",
    "plt.imshow(x_train[0])\n",
    "print('라벨 : ', y_train[0])"
   ]
  },
  {
   "cell_type": "markdown",
   "metadata": {},
   "source": [
    "## 딥러닝 네트워크 설계하기\n",
    "\n",
    "이제 데이터 준비가 끝났다. 가위바위보를 인식하는 딥러닝 네트워크를 설계해보자."
   ]
  },
  {
   "cell_type": "code",
   "execution_count": 119,
   "metadata": {},
   "outputs": [
    {
     "name": "stdout",
     "output_type": "stream",
     "text": [
      "Model에 추가된 레이어의 개수 :  7\n"
     ]
    }
   ],
   "source": [
    "import tensorflow as tf\n",
    "from tensorflow import keras\n",
    "import numpy as np\n",
    "\n",
    "model = keras.models.Sequential()\n",
    "model.add(keras.layers.Conv2D(16, (3, 3), activation = 'relu', input_shape = (112, 112, 3)))\n",
    "model.add(keras.layers.MaxPool2D(2, 2))\n",
    "model.add(keras.layers.Conv2D(32, (3, 3), activation = 'relu'))\n",
    "model.add(keras.layers.MaxPool2D(2, 2))\n",
    "model.add(keras.layers.Flatten())\n",
    "model.add(keras.layers.Dense(32, activation = 'relu'))\n",
    "model.add(keras.layers.Dense(3, activation = 'softmax'))\n",
    "\n",
    "print(\"Model에 추가된 레이어의 개수 : \", len(model.layers))"
   ]
  },
  {
   "cell_type": "code",
   "execution_count": 117,
   "metadata": {},
   "outputs": [
    {
     "name": "stdout",
     "output_type": "stream",
     "text": [
      "Model: \"sequential_8\"\n",
      "_________________________________________________________________\n",
      "Layer (type)                 Output Shape              Param #   \n",
      "=================================================================\n",
      "conv2d_16 (Conv2D)           (None, 110, 110, 16)      448       \n",
      "_________________________________________________________________\n",
      "max_pooling2d_16 (MaxPooling (None, 55, 55, 16)        0         \n",
      "_________________________________________________________________\n",
      "conv2d_17 (Conv2D)           (None, 53, 53, 32)        4640      \n",
      "_________________________________________________________________\n",
      "max_pooling2d_17 (MaxPooling (None, 26, 26, 32)        0         \n",
      "_________________________________________________________________\n",
      "flatten_8 (Flatten)          (None, 21632)             0         \n",
      "_________________________________________________________________\n",
      "dense_16 (Dense)             (None, 48)                1038384   \n",
      "_________________________________________________________________\n",
      "dense_17 (Dense)             (None, 3)                 147       \n",
      "=================================================================\n",
      "Total params: 1,043,619\n",
      "Trainable params: 1,043,619\n",
      "Non-trainable params: 0\n",
      "_________________________________________________________________\n"
     ]
    }
   ],
   "source": [
    "model.summary()"
   ]
  },
  {
   "cell_type": "code",
   "execution_count": 120,
   "metadata": {},
   "outputs": [
    {
     "name": "stdout",
     "output_type": "stream",
     "text": [
      "Epoch 1/10\n",
      "10/10 [==============================] - 0s 6ms/step - loss: 1.1711 - accuracy: 0.3933\n",
      "Epoch 2/10\n",
      "10/10 [==============================] - 0s 6ms/step - loss: 0.8042 - accuracy: 0.7700\n",
      "Epoch 3/10\n",
      "10/10 [==============================] - 0s 6ms/step - loss: 0.4137 - accuracy: 0.8367\n",
      "Epoch 4/10\n",
      "10/10 [==============================] - 0s 5ms/step - loss: 0.1704 - accuracy: 0.9733\n",
      "Epoch 5/10\n",
      "10/10 [==============================] - 0s 5ms/step - loss: 0.0593 - accuracy: 0.9933\n",
      "Epoch 6/10\n",
      "10/10 [==============================] - 0s 5ms/step - loss: 0.0177 - accuracy: 1.0000\n",
      "Epoch 7/10\n",
      "10/10 [==============================] - 0s 5ms/step - loss: 0.0090 - accuracy: 1.0000\n",
      "Epoch 8/10\n",
      "10/10 [==============================] - 0s 5ms/step - loss: 0.0044 - accuracy: 1.0000\n",
      "Epoch 9/10\n",
      "10/10 [==============================] - 0s 4ms/step - loss: 0.0031 - accuracy: 1.0000\n",
      "Epoch 10/10\n",
      "10/10 [==============================] - 0s 4ms/step - loss: 0.0022 - accuracy: 1.0000\n"
     ]
    },
    {
     "data": {
      "text/plain": [
       "<tensorflow.python.keras.callbacks.History at 0x7fd5e9098410>"
      ]
     },
     "execution_count": 120,
     "metadata": {},
     "output_type": "execute_result"
    }
   ],
   "source": [
    "#x_train_reshaped = x_train_norm.reshape(-1, 28, 28, 3)\n",
    "#x_test_reshaped = x_test_norm.reshape(-1, 28, 28, 3)\n",
    "\n",
    "model.compile(optimizer = 'adam',\n",
    "             loss = 'sparse_categorical_crossentropy',\n",
    "             metrics = ['accuracy'])\n",
    "\n",
    "model.fit(x_train_norm, y_train, epochs=10)"
   ]
  },
  {
   "cell_type": "markdown",
   "metadata": {},
   "source": [
    "training set의 validation으로 정확도를 체크한 결과 96퍼센트의 정확도가 나온다."
   ]
  },
  {
   "cell_type": "markdown",
   "metadata": {},
   "source": [
    "## 만든 모델이 잘 들어맞는지 테스트 하기\n",
    "\n",
    "다른 사람과 비교하여 내 모델이 얼마나 잘 들어맞는지도 확인해보자.\n",
    "\n",
    "먼저 테스트 데이터를 resize 하자."
   ]
  },
  {
   "cell_type": "code",
   "execution_count": 103,
   "metadata": {},
   "outputs": [],
   "source": [
    "def resize(image_path):\n",
    "    target_size = (112, 112)\n",
    "    \n",
    "    for img in glob.glob(image_path + '/rock/*.jpg'):\n",
    "        old_img = Image.open(img)\n",
    "        new_img = old_img.resize(target_size, Image.ANTIALIAS)\n",
    "        new_img.save(img, \"JPEG\")\n",
    "    \n",
    "    for img in glob.glob(image_path + '/scissors/*.jpg'):\n",
    "        old_img = Image.open(img)\n",
    "        new_img = old_img.resize(target_size, Image.ANTIALIAS)\n",
    "        new_img.save(img, \"JPEG\")\n",
    "    \n",
    "    for img in glob.glob(image_path + '/paper/*.jpg'):\n",
    "        old_img = Image.open(img)\n",
    "        new_img = old_img.resize(target_size, Image.ANTIALIAS)\n",
    "        new_img.save(img, \"JPEG\")"
   ]
  },
  {
   "cell_type": "code",
   "execution_count": 121,
   "metadata": {},
   "outputs": [
    {
     "name": "stdout",
     "output_type": "stream",
     "text": [
      "학습 데이터 x_train의 개수는  300 입니다.\n",
      "x_test shape : (300, 112, 112, 3)\n",
      "y_test shape : (300,)\n"
     ]
    }
   ],
   "source": [
    "image_path = os.path.dirname(os.path.abspath('__file__'))\n",
    "image_path += r'/data/test'\n",
    "resize(image_path)\n",
    "\n",
    "(x_test, y_test) = load_data(image_path)\n",
    "x_test_norm = x_test/255.0\n",
    "\n",
    "print(\"x_test shape : {}\".format(x_test.shape))\n",
    "print(\"y_test shape : {}\".format(y_test.shape))"
   ]
  },
  {
   "cell_type": "code",
   "execution_count": 107,
   "metadata": {},
   "outputs": [
    {
     "name": "stdout",
     "output_type": "stream",
     "text": [
      "10/10 - 0s - loss: 758.7439 - accuracy: 0.3333\n",
      "test_loss : 758.743896484375\n",
      "test_accuracy : 0.3333333432674408\n"
     ]
    }
   ],
   "source": [
    "test_loss, test_accuracy = model.evaluate(x_test, y_test, verbose = 2)\n",
    "\n",
    "print(\"test_loss : {}\".format(test_loss))\n",
    "print(\"test_accuracy : {}\".format(test_accuracy))"
   ]
  },
  {
   "cell_type": "markdown",
   "metadata": {},
   "source": [
    "결과가 34퍼센트 나온다 ^^;;"
   ]
  },
  {
   "cell_type": "code",
   "execution_count": null,
   "metadata": {},
   "outputs": [],
   "source": []
  }
 ],
 "metadata": {
  "kernelspec": {
   "display_name": "aiffel",
   "language": "python",
   "name": "aiffel"
  },
  "language_info": {
   "codemirror_mode": {
    "name": "ipython",
    "version": 3
   },
   "file_extension": ".py",
   "mimetype": "text/x-python",
   "name": "python",
   "nbconvert_exporter": "python",
   "pygments_lexer": "ipython3",
   "version": "3.7.7"
  }
 },
 "nbformat": 4,
 "nbformat_minor": 4
}
